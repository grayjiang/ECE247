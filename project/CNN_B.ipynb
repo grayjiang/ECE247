{
  "nbformat": 4,
  "nbformat_minor": 0,
  "metadata": {
    "colab": {
      "name": "CNN-B.ipynb",
      "provenance": [],
      "collapsed_sections": []
    },
    "kernelspec": {
      "name": "python3",
      "display_name": "Python 3"
    },
    "accelerator": "GPU"
  },
  "cells": [
    {
      "cell_type": "code",
      "metadata": {
        "id": "nUMIIZ8H7Q4G",
        "colab": {
          "base_uri": "https://localhost:8080/",
          "height": 122
        },
        "outputId": "015f0559-883f-4822-e904-f328df71a12c"
      },
      "source": [
        "from google.colab import drive\n",
        "\n",
        "drive.mount('/content/gdrive')"
      ],
      "execution_count": null,
      "outputs": [
        {
          "output_type": "stream",
          "text": [
            "Go to this URL in a browser: https://accounts.google.com/o/oauth2/auth?client_id=947318989803-6bn6qk8qdgf4n4g3pfee6491hc0brc4i.apps.googleusercontent.com&redirect_uri=urn%3aietf%3awg%3aoauth%3a2.0%3aoob&response_type=code&scope=email%20https%3a%2f%2fwww.googleapis.com%2fauth%2fdocs.test%20https%3a%2f%2fwww.googleapis.com%2fauth%2fdrive%20https%3a%2f%2fwww.googleapis.com%2fauth%2fdrive.photos.readonly%20https%3a%2f%2fwww.googleapis.com%2fauth%2fpeopleapi.readonly\n",
            "\n",
            "Enter your authorization code:\n",
            "··········\n",
            "Mounted at /content/gdrive\n"
          ],
          "name": "stdout"
        }
      ]
    },
    {
      "cell_type": "code",
      "metadata": {
        "id": "Sr18hEBh7Vus",
        "colab": {
          "base_uri": "https://localhost:8080/",
          "height": 34
        },
        "outputId": "5a376720-a624-448e-e1e9-1b1705cc5251"
      },
      "source": [
        "cd /content/gdrive/My Drive/Colab Notebooks/ee247/project"
      ],
      "execution_count": null,
      "outputs": [
        {
          "output_type": "stream",
          "text": [
            "/content/gdrive/My Drive/Colab Notebooks/ee247/project\n"
          ],
          "name": "stdout"
        }
      ]
    },
    {
      "cell_type": "code",
      "metadata": {
        "id": "0EDSQCeXA-OX",
        "colab": {
          "base_uri": "https://localhost:8080/",
          "height": 884
        },
        "outputId": "5f1573b9-2201-469a-82e7-e9f4bf9d92c5"
      },
      "source": [
        "!pip install tensorflow-gpu"
      ],
      "execution_count": null,
      "outputs": [
        {
          "output_type": "stream",
          "text": [
            "Collecting tensorflow-gpu\n",
            "\u001b[?25l  Downloading https://files.pythonhosted.org/packages/0a/93/c7bca39b23aae45cd2e85ad3871c81eccc63b9c5276e926511e2e5b0879d/tensorflow_gpu-2.1.0-cp36-cp36m-manylinux2010_x86_64.whl (421.8MB)\n",
            "\u001b[K     |████████████████████████████████| 421.8MB 22kB/s \n",
            "\u001b[?25hRequirement already satisfied: wrapt>=1.11.1 in /usr/local/lib/python3.6/dist-packages (from tensorflow-gpu) (1.11.2)\n",
            "Requirement already satisfied: numpy<2.0,>=1.16.0 in /usr/local/lib/python3.6/dist-packages (from tensorflow-gpu) (1.17.5)\n",
            "Requirement already satisfied: google-pasta>=0.1.6 in /usr/local/lib/python3.6/dist-packages (from tensorflow-gpu) (0.1.8)\n",
            "Requirement already satisfied: keras-preprocessing>=1.1.0 in /usr/local/lib/python3.6/dist-packages (from tensorflow-gpu) (1.1.0)\n",
            "Collecting tensorboard<2.2.0,>=2.1.0\n",
            "\u001b[?25l  Downloading https://files.pythonhosted.org/packages/d9/41/bbf49b61370e4f4d245d4c6051dfb6db80cec672605c91b1652ac8cc3d38/tensorboard-2.1.1-py3-none-any.whl (3.8MB)\n",
            "\u001b[K     |████████████████████████████████| 3.9MB 49.6MB/s \n",
            "\u001b[?25hRequirement already satisfied: protobuf>=3.8.0 in /usr/local/lib/python3.6/dist-packages (from tensorflow-gpu) (3.10.0)\n",
            "Requirement already satisfied: termcolor>=1.1.0 in /usr/local/lib/python3.6/dist-packages (from tensorflow-gpu) (1.1.0)\n",
            "Requirement already satisfied: six>=1.12.0 in /usr/local/lib/python3.6/dist-packages (from tensorflow-gpu) (1.12.0)\n",
            "Requirement already satisfied: grpcio>=1.8.6 in /usr/local/lib/python3.6/dist-packages (from tensorflow-gpu) (1.27.1)\n",
            "Requirement already satisfied: scipy==1.4.1; python_version >= \"3\" in /usr/local/lib/python3.6/dist-packages (from tensorflow-gpu) (1.4.1)\n",
            "Requirement already satisfied: gast==0.2.2 in /usr/local/lib/python3.6/dist-packages (from tensorflow-gpu) (0.2.2)\n",
            "Requirement already satisfied: astor>=0.6.0 in /usr/local/lib/python3.6/dist-packages (from tensorflow-gpu) (0.8.1)\n",
            "Requirement already satisfied: absl-py>=0.7.0 in /usr/local/lib/python3.6/dist-packages (from tensorflow-gpu) (0.9.0)\n",
            "Requirement already satisfied: wheel>=0.26; python_version >= \"3\" in /usr/local/lib/python3.6/dist-packages (from tensorflow-gpu) (0.34.2)\n",
            "Collecting tensorflow-estimator<2.2.0,>=2.1.0rc0\n",
            "\u001b[?25l  Downloading https://files.pythonhosted.org/packages/18/90/b77c328a1304437ab1310b463e533fa7689f4bfc41549593056d812fab8e/tensorflow_estimator-2.1.0-py2.py3-none-any.whl (448kB)\n",
            "\u001b[K     |████████████████████████████████| 450kB 69.6MB/s \n",
            "\u001b[?25hRequirement already satisfied: keras-applications>=1.0.8 in /usr/local/lib/python3.6/dist-packages (from tensorflow-gpu) (1.0.8)\n",
            "Requirement already satisfied: opt-einsum>=2.3.2 in /usr/local/lib/python3.6/dist-packages (from tensorflow-gpu) (3.1.0)\n",
            "Requirement already satisfied: google-auth<2,>=1.6.3 in /usr/local/lib/python3.6/dist-packages (from tensorboard<2.2.0,>=2.1.0->tensorflow-gpu) (1.7.2)\n",
            "Requirement already satisfied: requests<3,>=2.21.0 in /usr/local/lib/python3.6/dist-packages (from tensorboard<2.2.0,>=2.1.0->tensorflow-gpu) (2.21.0)\n",
            "Requirement already satisfied: markdown>=2.6.8 in /usr/local/lib/python3.6/dist-packages (from tensorboard<2.2.0,>=2.1.0->tensorflow-gpu) (3.2.1)\n",
            "Requirement already satisfied: setuptools>=41.0.0 in /usr/local/lib/python3.6/dist-packages (from tensorboard<2.2.0,>=2.1.0->tensorflow-gpu) (45.2.0)\n",
            "Requirement already satisfied: werkzeug>=0.11.15 in /usr/local/lib/python3.6/dist-packages (from tensorboard<2.2.0,>=2.1.0->tensorflow-gpu) (1.0.0)\n",
            "Requirement already satisfied: google-auth-oauthlib<0.5,>=0.4.1 in /usr/local/lib/python3.6/dist-packages (from tensorboard<2.2.0,>=2.1.0->tensorflow-gpu) (0.4.1)\n",
            "Requirement already satisfied: h5py in /usr/local/lib/python3.6/dist-packages (from keras-applications>=1.0.8->tensorflow-gpu) (2.8.0)\n",
            "Requirement already satisfied: pyasn1-modules>=0.2.1 in /usr/local/lib/python3.6/dist-packages (from google-auth<2,>=1.6.3->tensorboard<2.2.0,>=2.1.0->tensorflow-gpu) (0.2.8)\n",
            "Requirement already satisfied: rsa<4.1,>=3.1.4 in /usr/local/lib/python3.6/dist-packages (from google-auth<2,>=1.6.3->tensorboard<2.2.0,>=2.1.0->tensorflow-gpu) (4.0)\n",
            "Requirement already satisfied: cachetools<3.2,>=2.0.0 in /usr/local/lib/python3.6/dist-packages (from google-auth<2,>=1.6.3->tensorboard<2.2.0,>=2.1.0->tensorflow-gpu) (3.1.1)\n",
            "Requirement already satisfied: urllib3<1.25,>=1.21.1 in /usr/local/lib/python3.6/dist-packages (from requests<3,>=2.21.0->tensorboard<2.2.0,>=2.1.0->tensorflow-gpu) (1.24.3)\n",
            "Requirement already satisfied: idna<2.9,>=2.5 in /usr/local/lib/python3.6/dist-packages (from requests<3,>=2.21.0->tensorboard<2.2.0,>=2.1.0->tensorflow-gpu) (2.8)\n",
            "Requirement already satisfied: chardet<3.1.0,>=3.0.2 in /usr/local/lib/python3.6/dist-packages (from requests<3,>=2.21.0->tensorboard<2.2.0,>=2.1.0->tensorflow-gpu) (3.0.4)\n",
            "Requirement already satisfied: certifi>=2017.4.17 in /usr/local/lib/python3.6/dist-packages (from requests<3,>=2.21.0->tensorboard<2.2.0,>=2.1.0->tensorflow-gpu) (2019.11.28)\n",
            "Requirement already satisfied: requests-oauthlib>=0.7.0 in /usr/local/lib/python3.6/dist-packages (from google-auth-oauthlib<0.5,>=0.4.1->tensorboard<2.2.0,>=2.1.0->tensorflow-gpu) (1.3.0)\n",
            "Requirement already satisfied: pyasn1<0.5.0,>=0.4.6 in /usr/local/lib/python3.6/dist-packages (from pyasn1-modules>=0.2.1->google-auth<2,>=1.6.3->tensorboard<2.2.0,>=2.1.0->tensorflow-gpu) (0.4.8)\n",
            "Requirement already satisfied: oauthlib>=3.0.0 in /usr/local/lib/python3.6/dist-packages (from requests-oauthlib>=0.7.0->google-auth-oauthlib<0.5,>=0.4.1->tensorboard<2.2.0,>=2.1.0->tensorflow-gpu) (3.1.0)\n",
            "\u001b[31mERROR: tensorflow 1.15.0 has requirement tensorboard<1.16.0,>=1.15.0, but you'll have tensorboard 2.1.1 which is incompatible.\u001b[0m\n",
            "\u001b[31mERROR: tensorflow 1.15.0 has requirement tensorflow-estimator==1.15.1, but you'll have tensorflow-estimator 2.1.0 which is incompatible.\u001b[0m\n",
            "Installing collected packages: tensorboard, tensorflow-estimator, tensorflow-gpu\n",
            "  Found existing installation: tensorboard 1.15.0\n",
            "    Uninstalling tensorboard-1.15.0:\n",
            "      Successfully uninstalled tensorboard-1.15.0\n",
            "  Found existing installation: tensorflow-estimator 1.15.1\n",
            "    Uninstalling tensorflow-estimator-1.15.1:\n",
            "      Successfully uninstalled tensorflow-estimator-1.15.1\n",
            "Successfully installed tensorboard-2.1.1 tensorflow-estimator-2.1.0 tensorflow-gpu-2.1.0\n"
          ],
          "name": "stdout"
        }
      ]
    },
    {
      "cell_type": "code",
      "metadata": {
        "id": "Bo3q_KSK7XEk",
        "colab": {
          "base_uri": "https://localhost:8080/",
          "height": 34
        },
        "outputId": "0598ac5d-24bf-4252-838d-8e2252d8c932"
      },
      "source": [
        "import tensorflow as tf\n",
        "print(tf.__version__)"
      ],
      "execution_count": null,
      "outputs": [
        {
          "output_type": "stream",
          "text": [
            "2.1.0\n"
          ],
          "name": "stdout"
        }
      ]
    },
    {
      "cell_type": "code",
      "metadata": {
        "id": "basq2J_27YEs"
      },
      "source": [
        "import numpy as np\n",
        "import matplotlib.pyplot as plt\n",
        "from tensorflow import keras \n",
        "\n",
        "X_test = np.load(\"X_test.npy\")\n",
        "y_test = np.load(\"y_test.npy\")\n",
        "person_train_valid = np.load(\"person_train_valid.npy\")\n",
        "X_train_valid = np.load(\"X_train_valid.npy\")\n",
        "y_train_valid = np.load(\"y_train_valid.npy\")\n",
        "person_test = np.load(\"person_test.npy\")\n",
        "\n",
        "X_test = np.expand_dims(X_test, axis=3)\n",
        "X_train_valid = np.expand_dims(X_train_valid, axis=3)\n",
        "y_train_valid = y_train_valid - 769\n",
        "y_test = y_test - 769\n",
        "y_train_valid = keras.utils.to_categorical(y_train_valid)\n",
        "y_test = keras.utils.to_categorical(y_test)"
      ],
      "execution_count": null,
      "outputs": []
    },
    {
      "cell_type": "code",
      "metadata": {
        "id": "LZpGT95F7ZV7",
        "colab": {
          "base_uri": "https://localhost:8080/",
          "height": 119
        },
        "outputId": "b441fc1d-75e7-401b-d279-f36bf4cb49a1"
      },
      "source": [
        "print ('Training/Valid data shape: {}'.format(X_train_valid.shape))\n",
        "print ('Test data shape: {}'.format(X_test.shape))\n",
        "print ('Training/Valid target shape: {}'.format(y_train_valid.shape))\n",
        "print ('Test target shape: {}'.format(y_test.shape))\n",
        "print ('Person train/valid shape: {}'.format(person_train_valid.shape))\n",
        "print ('Person test shape: {}'.format(person_test.shape))"
      ],
      "execution_count": null,
      "outputs": [
        {
          "output_type": "stream",
          "text": [
            "Training/Valid data shape: (2115, 22, 1000, 1)\n",
            "Test data shape: (443, 22, 1000, 1)\n",
            "Training/Valid target shape: (2115, 4)\n",
            "Test target shape: (443, 4)\n",
            "Person train/valid shape: (2115, 1)\n",
            "Person test shape: (443, 1)\n"
          ],
          "name": "stdout"
        }
      ]
    },
    {
      "cell_type": "code",
      "metadata": {
        "id": "IWm6YKSJFtnI"
      },
      "source": [
        "def cnn_model(time_bin):\n",
        "    model = keras.models.Sequential()\n",
        "\n",
        "    #   tf.keras.layers.Conv2D(\n",
        "    #     filters, kernel_size, strides=(1, 1), padding='valid', data_format=None,\n",
        "    #     dilation_rate=(1, 1), activation=None, use_bias=True,\n",
        "    #     kernel_initializer='glorot_uniform', bias_initializer='zeros',\n",
        "    #     kernel_regularizer=None, bias_regularizer=None, activity_regularizer=None,\n",
        "    #     kernel_constraint=None, bias_constraint=None, **kwargs\n",
        "    # )\n",
        "\n",
        "    model.add(keras.layers.Conv2D(64, kernel_size=(3, 3), kernel_regularizer=keras.regularizers.L1L2(0,0.35), input_shape=(22, time_bin, 1)))\n",
        "    model.add(keras.layers.ELU())\n",
        "    model.add(keras.layers.BatchNormalization(axis=1))\n",
        "    model.add(keras.layers.MaxPool2D((1, 2)))\n",
        "\n",
        "    model.add(keras.layers.Conv2D(64, kernel_size=(3, 3), kernel_regularizer=keras.regularizers.L1L2(0,0.35)))\n",
        "    model.add(keras.layers.ELU())\n",
        "    model.add(keras.layers.BatchNormalization(axis=1))\n",
        "    model.add(keras.layers.MaxPool2D((1,2)))\n",
        "\n",
        "    model.add(keras.layers.Conv2D(32, kernel_size=(3, 3), kernel_regularizer=keras.regularizers.L1L2(0,0.35)))\n",
        "    model.add(keras.layers.ELU())\n",
        "    model.add(keras.layers.BatchNormalization(axis=1))\n",
        "    model.add(keras.layers.MaxPool2D((1, 2)))\n",
        "    model.add(keras.layers.Dropout(0.2))\n",
        "\n",
        "    model.add(keras.layers.Conv2D(16, kernel_size=(3, 3), kernel_regularizer=keras.regularizers.L1L2(0,0.35)))\n",
        "    model.add(keras.layers.ELU())\n",
        "    model.add(keras.layers.BatchNormalization(axis=1))\n",
        "    model.add(keras.layers.MaxPool2D((1, 2)))\n",
        "    model.add(keras.layers.Dropout(0.2))\n",
        "\n",
        "    model.add(keras.layers.Flatten())\n",
        "    model.add(keras.layers.Dense(4, kernel_regularizer=keras.regularizers.L1L2(0,0.35), activation='softmax'))\n",
        "\n",
        "    model.compile(loss='categorical_crossentropy', optimizer= keras.optimizers.Adam(lr=0.001, epsilon=1e-8, decay=0.01), metrics=[keras.metrics.categorical_accuracy])\n",
        "    return model"
      ],
      "execution_count": null,
      "outputs": []
    },
    {
      "cell_type": "code",
      "metadata": {
        "id": "8-M0EJ1QFwh4"
      },
      "source": [
        "def train_data_time(time_bin):\n",
        "    # different period of time\n",
        "    x_train_in = X_train_valid[:, :, :time_bin,:]\n",
        "    y_train_in = y_train_valid\n",
        "    x_test_in = X_test[:, :, :time_bin,:]\n",
        "    y_test_in = y_test\n",
        "\n",
        "    lecun = keras.initializers.lecun_uniform()\n",
        "    model = cnn_model(time_bin)\n",
        "\n",
        "    # fit( x, y, batch_size=32, epochs=10, verbose=1, callbacks=None,\n",
        "    # validation_split=0.0, validation_data=None, shuffle=True, \n",
        "    # class_weight=None, sample_weight=None, initial_epoch=0)\n",
        "\n",
        "    model.fit(x_train_in, y_train_in, epochs=20, verbose=0, batch_size=25, validation_data=(x_test_in, y_test_in))\n",
        "    train = model.evaluate(x_train_in, y_train_in)\n",
        "    test = model.evaluate(x_test_in, y_test_in)\n",
        "\n",
        "    return train[1]*100, test[1]*100"
      ],
      "execution_count": null,
      "outputs": []
    },
    {
      "cell_type": "code",
      "metadata": {
        "id": "D0pxLwaEFyS4",
        "colab": {
          "base_uri": "https://localhost:8080/",
          "height": 740
        },
        "outputId": "7e319661-c7ff-4da1-c9ff-9a5bc6cd7487"
      },
      "source": [
        "train_time = []\n",
        "test_time = []\n",
        "\n",
        "for time in range(200, 1001, 100):\n",
        "  print(\"time = %d start\" %(time))\n",
        "  temp1, temp2 = train_data_time(time)\n",
        "  train_time.append(temp1)\n",
        "  test_time.append(temp2)\n",
        "\n",
        "plt.plot(range(200, 1001, 100), train_time, label='train')\n",
        "plt.plot(range(200, 1001, 100), test_time, label='test')\n",
        "plt.legend()\n",
        "plt.title(\"Accuracies VS. Time\")\n",
        "for a,b,c in zip(range(200, 1001, 100),train_time,test_time):\n",
        "  plt.text(a, b-3, '%.3f' % b, ha='center', va= 'bottom',fontsize=9)\n",
        "  plt.text(a, c+1, '%.3f' % c, ha='center', va= 'bottom',fontsize=9)\n",
        "plt.show()\n"
      ],
      "execution_count": null,
      "outputs": [
        {
          "output_type": "stream",
          "text": [
            "time = 200 start\n",
            "2115/2115 [==============================] - 1s 396us/sample - loss: 1.0599 - categorical_accuracy: 0.7116\n",
            "443/443 [==============================] - 0s 525us/sample - loss: 1.2223 - categorical_accuracy: 0.5643\n",
            "time = 300 start\n",
            "2115/2115 [==============================] - 1s 530us/sample - loss: 0.9316 - categorical_accuracy: 0.8033\n",
            "443/443 [==============================] - 0s 783us/sample - loss: 1.1453 - categorical_accuracy: 0.6479\n",
            "time = 400 start\n",
            "2115/2115 [==============================] - 1s 638us/sample - loss: 0.8277 - categorical_accuracy: 0.8747\n",
            "443/443 [==============================] - 0s 904us/sample - loss: 1.1207 - categorical_accuracy: 0.6727\n",
            "time = 500 start\n",
            "2115/2115 [==============================] - 2s 756us/sample - loss: 0.7803 - categorical_accuracy: 0.8879\n",
            "443/443 [==============================] - 0s 1ms/sample - loss: 1.1585 - categorical_accuracy: 0.6591\n",
            "time = 600 start\n",
            "2115/2115 [==============================] - 2s 825us/sample - loss: 0.7283 - categorical_accuracy: 0.9168\n",
            "443/443 [==============================] - 0s 1ms/sample - loss: 1.1719 - categorical_accuracy: 0.6456\n",
            "time = 700 start\n",
            "2115/2115 [==============================] - 2s 936us/sample - loss: 0.7440 - categorical_accuracy: 0.9234\n",
            "443/443 [==============================] - 1s 1ms/sample - loss: 1.2154 - categorical_accuracy: 0.6343\n",
            "time = 800 start\n",
            "2115/2115 [==============================] - 2s 1ms/sample - loss: 0.7021 - categorical_accuracy: 0.9461\n",
            "443/443 [==============================] - 1s 1ms/sample - loss: 1.2169 - categorical_accuracy: 0.6230\n",
            "time = 900 start\n",
            "2115/2115 [==============================] - 2s 1ms/sample - loss: 0.7720 - categorical_accuracy: 0.9485\n",
            "443/443 [==============================] - 1s 1ms/sample - loss: 1.3098 - categorical_accuracy: 0.6095\n",
            "time = 1000 start\n",
            "2115/2115 [==============================] - 3s 1ms/sample - loss: 0.6890 - categorical_accuracy: 0.9745\n",
            "443/443 [==============================] - 1s 2ms/sample - loss: 1.3388 - categorical_accuracy: 0.6005\n"
          ],
          "name": "stdout"
        },
        {
          "output_type": "display_data",
          "data": {
            "image/png": "[encoded data removed]",
            "text/plain": [
              "<Figure size 432x288 with 1 Axes>"
            ]
          },
          "metadata": {
            "tags": []
          }
        }
      ]
    },
    {
      "cell_type": "code",
      "metadata": {
        "id": "QONcTNtNgi5D"
      },
      "source": [
        "def train_data_subject(subject_num):\n",
        "\n",
        "    # from pervious section, we found time_bin = 400 has better performance\n",
        "    time_bin = 400\n",
        "    x_train_in = X_train_valid[:, :, :time_bin,:]\n",
        "    y_train_in = y_train_valid\n",
        "    x_test_in = X_test[:, :, :time_bin,:]\n",
        "    y_test_in = y_test\n",
        "\n",
        "    if subject_num < 9:\n",
        "      itemindex_train = np.argwhere(person_train_valid == subject_num)\n",
        "      itemindex_train = np.delete(itemindex_train, -1, axis=1).reshape(-1,)\n",
        "      x_train_in = x_train_in[itemindex_train, :, :,:]\n",
        "      y_train_in = y_train_valid[itemindex_train,:]\n",
        "\n",
        "    lecun = keras.initializers.lecun_uniform()\n",
        "    model = cnn_model(time_bin)\n",
        "\n",
        "    model.fit(x_train_in, y_train_in, epochs=20, verbose=0, batch_size=25, validation_data=(x_test_in, y_test_in))\n",
        "    train = model.evaluate(x_train_in, y_train_in)\n",
        "    test = model.evaluate(x_test_in, y_test_in)\n",
        "\n",
        "    return train[1]*100, test[1]*100"
      ],
      "execution_count": null,
      "outputs": []
    },
    {
      "cell_type": "code",
      "metadata": {
        "id": "bqhnyGgjgjvG",
        "colab": {
          "base_uri": "https://localhost:8080/",
          "height": 697
        },
        "outputId": "61d37dfa-b044-4d0c-b091-96a89b45a587"
      },
      "source": [
        "for subject_num in range(0,9):\n",
        "  print(\"subject_num = %d start\" %(subject_num))\n",
        "  train_acc, test_acc = train_data_subject(subject_num)\n",
        "  print(\"train_subject {:d} has trian acc = {:.3f}% and test acc = {:.3f}%\" .format(subject_num, train_acc,test_acc))\n",
        "\n",
        "print(\"subject_num = ALL start\")\n",
        "train_acc, test_acc = train_data_subject(9)\n",
        "print(\"train_subject ALL has trian acc = {:.3f}% and test acc = {:.3f}%\" .format(train_acc,test_acc))"
      ],
      "execution_count": null,
      "outputs": [
        {
          "output_type": "stream",
          "text": [
            "subject_num = 0 start\n",
            "237/237 [==============================] - 0s 1ms/sample - loss: 3.4181 - categorical_accuracy: 0.8397\n",
            "443/443 [==============================] - 0s 526us/sample - loss: 3.6719 - categorical_accuracy: 0.3251\n",
            "train_subject 0 has trian acc = 83.966% and test acc = 32.506%\n",
            "subject_num = 1 start\n",
            "236/236 [==============================] - 0s 521us/sample - loss: 3.6863 - categorical_accuracy: 0.5847\n",
            "443/443 [==============================] - 0s 511us/sample - loss: 3.9091 - categorical_accuracy: 0.2777\n",
            "train_subject 1 has trian acc = 58.475% and test acc = 27.765%\n",
            "subject_num = 2 start\n",
            "236/236 [==============================] - 0s 557us/sample - loss: 3.6324 - categorical_accuracy: 0.4958\n",
            "443/443 [==============================] - 0s 526us/sample - loss: 3.8258 - categorical_accuracy: 0.2822\n",
            "train_subject 2 has trian acc = 49.576% and test acc = 28.217%\n",
            "subject_num = 3 start\n",
            "234/234 [==============================] - 0s 1ms/sample - loss: 3.4825 - categorical_accuracy: 0.9145\n",
            "443/443 [==============================] - 0s 505us/sample - loss: 3.6769 - categorical_accuracy: 0.3183\n",
            "train_subject 3 has trian acc = 91.453% and test acc = 31.828%\n",
            "subject_num = 4 start\n",
            "235/235 [==============================] - 0s 555us/sample - loss: 3.3131 - categorical_accuracy: 0.3702\n",
            "443/443 [==============================] - 0s 524us/sample - loss: 3.4744 - categorical_accuracy: 0.2844\n",
            "train_subject 4 has trian acc = 37.021% and test acc = 28.442%\n",
            "subject_num = 5 start\n",
            "236/236 [==============================] - 0s 512us/sample - loss: 3.4478 - categorical_accuracy: 1.0000\n",
            "443/443 [==============================] - 0s 536us/sample - loss: 3.6849 - categorical_accuracy: 0.3747\n",
            "train_subject 5 has trian acc = 100.000% and test acc = 37.472%\n",
            "subject_num = 6 start\n",
            "238/238 [==============================] - 0s 1ms/sample - loss: 3.0743 - categorical_accuracy: 0.6008\n",
            "443/443 [==============================] - 0s 506us/sample - loss: 3.2479 - categorical_accuracy: 0.3183\n",
            "train_subject 6 has trian acc = 60.084% and test acc = 31.828%\n",
            "subject_num = 7 start\n",
            "232/232 [==============================] - 0s 867us/sample - loss: 3.9154 - categorical_accuracy: 0.6466\n",
            "443/443 [==============================] - 0s 522us/sample - loss: 4.2904 - categorical_accuracy: 0.2415\n",
            "train_subject 7 has trian acc = 64.655% and test acc = 24.153%\n",
            "subject_num = 8 start\n",
            "231/231 [==============================] - 0s 535us/sample - loss: 3.4699 - categorical_accuracy: 0.4978\n",
            "443/443 [==============================] - 0s 505us/sample - loss: 3.7457 - categorical_accuracy: 0.3047\n",
            "train_subject 8 has trian acc = 49.784% and test acc = 30.474%\n",
            "subject_num = ALL start\n",
            "2115/2115 [==============================] - 1s 516us/sample - loss: 0.8226 - categorical_accuracy: 0.8728\n",
            "443/443 [==============================] - 0s 516us/sample - loss: 1.1194 - categorical_accuracy: 0.6659\n",
            "train_subject ALL has trian acc = 87.281% and test acc = 66.591%\n"
          ],
          "name": "stdout"
        }
      ]
    }
  ]
}