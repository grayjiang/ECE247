{
 "cells": [
  {
   "cell_type": "code",
   "execution_count": 130,
   "metadata": {},
   "outputs": [
    {
     "name": "stdout",
     "output_type": "stream",
     "text": [
      "[0.4759922176725402, 0.21849844418537054, 0.16339207602210745, 0.16330707470593958, 0.16322958391050582]\n"
     ]
    }
   ],
   "source": [
    "import numpy as np \n",
    "import matplotlib.pyplot as plt\n",
    "\n",
    "#allows matlab plots to be generated in line\n",
    "%matplotlib inline\n",
    "\n",
    "np.random.seed(0)  # Sets the random seed.\n",
    "num_train = 200     # Number of training data points\n",
    "\n",
    "# Generate the training data\n",
    "x = np.random.uniform(low=0, high=1, size=(num_train,))\n",
    "y = x - 2*x**2 + x**3 + np.random.normal(loc=0, scale=0.03, size=(num_train,))\n",
    "\n",
    "xhat = np.vstack((x, np.ones_like(x)))\n",
    "theta = np.linalg.inv(xhat.dot(xhat.T)).dot(xhat.dot(y))\n",
    "\n",
    "N = 5\n",
    "xhats = []\n",
    "thetas = []\n",
    "\n",
    "# # GOAL: create a variable thetas.\n",
    "# # thetas is a list, where theta[i] are the model parameters for the polynomial fit of order i+1.\n",
    "# #   i.e., thetas[0] is equivalent to theta above.\n",
    "# #   i.e., thetas[1] should be a length 3 np.array with the coefficients of the x^2, x, and 1 respectively.\n",
    "# #   ... etc.\n",
    "\n",
    "# pass\n",
    "\n",
    "xhats.append(xhat)\n",
    "thetas.append(theta)\n",
    "\n",
    "for i in range(1,5):\n",
    "    xhats.append(np.vstack((x**(i+1), xhats[i-1])))\n",
    "    thetas.append(np.linalg.inv(xhats[i].dot(xhats[i].T)).dot(xhats[i].dot(y)))\n",
    "    \n",
    "L = []\n",
    "for j in np.arange(N):\n",
    "    thea = thetas[j].T\n",
    "    L.append( sum((y - thea.dot(xhats[j]))**2))\n",
    "print(L)\n",
    "    \n",
    "\n",
    "        \n",
    "        \n",
    "        \n",
    "        \n",
    "        \n",
    "        \n",
    "        \n"
   ]
  },
  {
   "cell_type": "code",
   "execution_count": null,
   "metadata": {},
   "outputs": [],
   "source": []
  },
  {
   "cell_type": "code",
   "execution_count": null,
   "metadata": {},
   "outputs": [],
   "source": []
  },
  {
   "cell_type": "code",
   "execution_count": null,
   "metadata": {},
   "outputs": [],
   "source": []
  }
 ],
 "metadata": {
  "kernelspec": {
   "display_name": "Python 3",
   "language": "python",
   "name": "python3"
  },
  "language_info": {
   "codemirror_mode": {
    "name": "ipython",
    "version": 3
   },
   "file_extension": ".py",
   "mimetype": "text/x-python",
   "name": "python",
   "nbconvert_exporter": "python",
   "pygments_lexer": "ipython3",
   "version": "3.7.4"
  }
 },
 "nbformat": 4,
 "nbformat_minor": 2
}
